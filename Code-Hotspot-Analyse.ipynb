{
 "cells": [
  {
   "cell_type": "markdown",
   "id": "b1b00dae",
   "metadata": {},
   "source": [
    "# Code Hotspot-Analyse"
   ]
  },
  {
   "cell_type": "markdown",
   "id": "da8989ce",
   "metadata": {},
   "source": [
    "## Datensammlung"
   ]
  },
  {
   "cell_type": "markdown",
   "id": "55277817",
   "metadata": {},
   "source": [
    "### Metrik 1: Anzahl der Zeilen pro Quellcodedatei"
   ]
  },
  {
   "cell_type": "code",
   "execution_count": null,
   "id": "8b092ac4",
   "metadata": {},
   "outputs": [],
   "source": [
    "!find spring-framework-petclinic/ -name '*.java' | xargs wc -l | head -n-1 > lines.txt"
   ]
  },
  {
   "cell_type": "code",
   "execution_count": null,
   "id": "aecbac69",
   "metadata": {},
   "outputs": [],
   "source": [
    "import pandas as pd\n",
    "\n",
    "lines = pd.read_csv(\"lines.txt\", sep=r'\\s+', names=['lines', 'filepath'])\n",
    "lines['filepath'] = lines['filepath'].str.replace(\"spring-framework-petclinic/\", \"\")\n",
    "lines = lines.set_index('filepath')\n",
    "lines.head()"
   ]
  },
  {
   "cell_type": "markdown",
   "id": "1347b5ea",
   "metadata": {},
   "source": [
    "### Metrik 2: Änderungsinformationen"
   ]
  },
  {
   "cell_type": "code",
   "execution_count": null,
   "id": "f8d882a6",
   "metadata": {},
   "outputs": [],
   "source": [
    "!git -C spring-framework-petclinic log --name-only --pretty=format: -- *.java > changes.txt"
   ]
  },
  {
   "cell_type": "code",
   "execution_count": null,
   "id": "d8277a70",
   "metadata": {},
   "outputs": [],
   "source": [
    "each_change_per_file = pd.read_csv(\"changes.txt\", names=[\"filepath\"])\n",
    "changes = pd.DataFrame(each_change_per_file['filepath'].value_counts())\n",
    "changes.columns =['changes']\n",
    "changes.head()"
   ]
  },
  {
   "cell_type": "markdown",
   "id": "a85fd565",
   "metadata": {},
   "source": [
    "### Metrik 3: Hotspots"
   ]
  },
  {
   "cell_type": "code",
   "execution_count": null,
   "id": "2a3a2719",
   "metadata": {},
   "outputs": [],
   "source": [
    "hotspots = changes.join(lines).dropna()\n",
    "hotspots.head()"
   ]
  },
  {
   "cell_type": "markdown",
   "id": "f29339db",
   "metadata": {},
   "source": [
    "## Erste Auswertungen"
   ]
  },
  {
   "cell_type": "markdown",
   "id": "30b229cc",
   "metadata": {},
   "source": [
    "Zeige die Top 10 der meist geänderten Dateien an."
   ]
  },
  {
   "cell_type": "code",
   "execution_count": null,
   "id": "57a151e1",
   "metadata": {},
   "outputs": [],
   "source": [
    "hotspots.sort_values(by=\"changes\", ascending=False).head(10)[['changes']]"
   ]
  },
  {
   "cell_type": "markdown",
   "id": "94ac2e73",
   "metadata": {},
   "source": [
    "Zeige die Top 10 der größten Dateien an."
   ]
  },
  {
   "cell_type": "code",
   "execution_count": null,
   "id": "8a696baf",
   "metadata": {},
   "outputs": [],
   "source": [
    "hotspots.sort_values(by=\"lines\", ascending=False).head(10)[['lines']]"
   ]
  },
  {
   "cell_type": "markdown",
   "id": "aa6e876f",
   "metadata": {},
   "source": [
    "Berechne und zeige Top 10 Hotspots an."
   ]
  },
  {
   "cell_type": "code",
   "execution_count": null,
   "id": "5cd1779b",
   "metadata": {},
   "outputs": [],
   "source": [
    "hotspots[\"rel_changes\"] = hotspots['changes'] / hotspots['changes'].max()\n",
    "hotspots[\"rel_lines\"] = hotspots['lines'] / hotspots['lines'].max()\n",
    "hotspots['rel_hotspot'] = hotspots[\"rel_changes\"] + hotspots[\"rel_lines\"]\n",
    "hotspots.sort_values(by=\"rel_hotspot\", ascending=False)[[\"rel_hotspot\"]].head(10)"
   ]
  },
  {
   "cell_type": "markdown",
   "id": "a98f6e4c",
   "metadata": {},
   "source": [
    "## Visualisierung\n",
    "\n",
    "Hinweis: die einzelnen Code-Blöcke sind nur Implementierungsdetails zur Ausgabe der Visualisierung und daher nicht leserelevant."
   ]
  },
  {
   "cell_type": "code",
   "execution_count": null,
   "id": "62f5fd93",
   "metadata": {},
   "outputs": [],
   "source": [
    "from matplotlib import cm\n",
    "from matplotlib.colors import rgb2hex\n",
    "import json\n",
    "import os\n",
    "\n",
    "\n",
    "# Daten für Visualisierung aufbereiten\n",
    "def create_plot_data(df, color_column_name, size_column_name, seperator):\n",
    "    plot_data = pd.DataFrame(index=df.index)\n",
    "    plot_data['value_for_color'] = df[color_column_name]\n",
    "    plot_data['ratio_for_color'] = plot_data['value_for_color'] / plot_data['value_for_color'].max()\n",
    "    plot_data['color'] = plot_data['ratio_for_color'].apply(lambda x : rgb2hex(cm.coolwarm(x)))\n",
    "    plot_data['size'] = df[size_column_name]\n",
    "    plot_data[['path', 'name']] = df.index.str.rsplit(seperator, n=1).to_list()\n",
    "    plot_data['path_list'] = plot_data['path'].str.split(seperator)\n",
    "    return plot_data\n",
    "\n",
    "\n",
    "# in D3-Datenformat umwandeln\n",
    "def create_flare_json(df):\n",
    "\n",
    "    json_data = {'name': 'flare', 'children': []}\n",
    "\n",
    "    for _, series in df.iterrows():\n",
    "        hierarchical_data = series['path_list']\n",
    "\n",
    "        children = json_data['children']\n",
    "        for part in hierarchical_data:\n",
    "            entry = next((child for child in children if child.get('name', '') == part), None)\n",
    "            if not entry:\n",
    "                entry = {'name': part, 'children': []}\n",
    "                children.append(entry)\n",
    "            children = entry['children']\n",
    "\n",
    "        children.append({\n",
    "            'name': f\"{series['name']} ({series['size']} [{series['value_for_color']}])\",\n",
    "            'size': series['size'],\n",
    "            'color': series['color']\n",
    "        })\n",
    "\n",
    "    return json_data\n",
    "\n",
    "\n",
    "# Template mit Daten füttern\n",
    "def create_hotspot_file(hotspots, color_column_name, size_column_name, separator):\n",
    "    json_data = create_flare_json(create_plot_data(hotspots, color_column_name, size_column_name,separator))\n",
    "            \n",
    "    with open(\"d3/template_hierarchical_d3_inline.html\") as html_template:\n",
    "        html = html_template.read().replace(\"###FLARE_JSON###\", str(json_data))\n",
    "        \n",
    "        os.makedirs(\"output\", exist_ok=True)\n",
    "        with open(f'hotspots.html', mode='w') as html_out:\n",
    "            html_out.write(html)"
   ]
  },
  {
   "cell_type": "markdown",
   "id": "1f696075",
   "metadata": {},
   "source": [
    "### Erzeuge Hotspot-Visualisierung"
   ]
  },
  {
   "cell_type": "code",
   "execution_count": null,
   "id": "42d6c55a",
   "metadata": {},
   "outputs": [],
   "source": [
    "create_hotspot_file(hotspots, \"changes\", \"lines\", \"/\")"
   ]
  }
 ],
 "metadata": {
  "kernelspec": {
   "display_name": "Python 3 (ipykernel)",
   "language": "python",
   "name": "python3"
  },
  "language_info": {
   "codemirror_mode": {
    "name": "ipython",
    "version": 3
   },
   "file_extension": ".py",
   "mimetype": "text/x-python",
   "name": "python",
   "nbconvert_exporter": "python",
   "pygments_lexer": "ipython3",
   "version": "3.9.7"
  }
 },
 "nbformat": 4,
 "nbformat_minor": 5
}
