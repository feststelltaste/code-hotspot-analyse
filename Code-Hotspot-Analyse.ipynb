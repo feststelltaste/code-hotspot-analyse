{
 "cells": [
  {
   "cell_type": "markdown",
   "id": "b1b00dae",
   "metadata": {},
   "source": [
    "# Code Hotspot-Analyse"
   ]
  },
  {
   "cell_type": "markdown",
   "id": "da8989ce",
   "metadata": {},
   "source": [
    "## Datensammlung"
   ]
  },
  {
   "cell_type": "markdown",
   "id": "55277817",
   "metadata": {},
   "source": [
    "### Metrik 1: Anzahl der Zeilen pro Quellcodedatei"
   ]
  },
  {
   "cell_type": "code",
   "execution_count": 1,
   "id": "8b092ac4",
   "metadata": {},
   "outputs": [],
   "source": [
    "!find spring-framework-petclinic/ -name '*.java' | xargs wc -l | head -n-1 > lines.txt"
   ]
  },
  {
   "cell_type": "code",
   "execution_count": 2,
   "id": "aecbac69",
   "metadata": {},
   "outputs": [
    {
     "data": {
      "text/html": [
       "<div>\n",
       "<style scoped>\n",
       "    .dataframe tbody tr th:only-of-type {\n",
       "        vertical-align: middle;\n",
       "    }\n",
       "\n",
       "    .dataframe tbody tr th {\n",
       "        vertical-align: top;\n",
       "    }\n",
       "\n",
       "    .dataframe thead th {\n",
       "        text-align: right;\n",
       "    }\n",
       "</style>\n",
       "<table border=\"1\" class=\"dataframe\">\n",
       "  <thead>\n",
       "    <tr style=\"text-align: right;\">\n",
       "      <th></th>\n",
       "      <th>lines</th>\n",
       "    </tr>\n",
       "    <tr>\n",
       "      <th>filepath</th>\n",
       "      <th></th>\n",
       "    </tr>\n",
       "  </thead>\n",
       "  <tbody>\n",
       "    <tr>\n",
       "      <th>.mvn/wrapper/MavenWrapperDownloader.java</th>\n",
       "      <td>117</td>\n",
       "    </tr>\n",
       "    <tr>\n",
       "      <th>src/main/java/org/springframework/samples/petclinic/model/BaseEntity.java</th>\n",
       "      <td>47</td>\n",
       "    </tr>\n",
       "    <tr>\n",
       "      <th>src/main/java/org/springframework/samples/petclinic/model/NamedEntity.java</th>\n",
       "      <td>48</td>\n",
       "    </tr>\n",
       "    <tr>\n",
       "      <th>src/main/java/org/springframework/samples/petclinic/model/Owner.java</th>\n",
       "      <td>153</td>\n",
       "    </tr>\n",
       "    <tr>\n",
       "      <th>src/main/java/org/springframework/samples/petclinic/model/package-info.java</th>\n",
       "      <td>5</td>\n",
       "    </tr>\n",
       "  </tbody>\n",
       "</table>\n",
       "</div>"
      ],
      "text/plain": [
       "                                                    lines\n",
       "filepath                                                 \n",
       ".mvn/wrapper/MavenWrapperDownloader.java              117\n",
       "src/main/java/org/springframework/samples/petcl...     47\n",
       "src/main/java/org/springframework/samples/petcl...     48\n",
       "src/main/java/org/springframework/samples/petcl...    153\n",
       "src/main/java/org/springframework/samples/petcl...      5"
      ]
     },
     "execution_count": 2,
     "metadata": {},
     "output_type": "execute_result"
    }
   ],
   "source": [
    "import pandas as pd\n",
    "\n",
    "lines = pd.read_csv(\"lines.txt\", sep=r'\\s+', names=['lines', 'filepath'])\n",
    "lines['filepath'] = lines['filepath'].str.replace(\"spring-framework-petclinic/\", \"\")\n",
    "lines = lines.set_index('filepath')\n",
    "lines.head()"
   ]
  },
  {
   "cell_type": "markdown",
   "id": "1347b5ea",
   "metadata": {},
   "source": [
    "### Metrik 2: Änderungsinformationen"
   ]
  },
  {
   "cell_type": "code",
   "execution_count": 3,
   "id": "f8d882a6",
   "metadata": {},
   "outputs": [],
   "source": [
    "!git -C spring-framework-petclinic log --name-only --pretty=format: -- *.java > changes.txt"
   ]
  },
  {
   "cell_type": "code",
   "execution_count": 4,
   "id": "d8277a70",
   "metadata": {},
   "outputs": [
    {
     "data": {
      "text/html": [
       "<div>\n",
       "<style scoped>\n",
       "    .dataframe tbody tr th:only-of-type {\n",
       "        vertical-align: middle;\n",
       "    }\n",
       "\n",
       "    .dataframe tbody tr th {\n",
       "        vertical-align: top;\n",
       "    }\n",
       "\n",
       "    .dataframe thead th {\n",
       "        text-align: right;\n",
       "    }\n",
       "</style>\n",
       "<table border=\"1\" class=\"dataframe\">\n",
       "  <thead>\n",
       "    <tr style=\"text-align: right;\">\n",
       "      <th></th>\n",
       "      <th>changes</th>\n",
       "    </tr>\n",
       "  </thead>\n",
       "  <tbody>\n",
       "    <tr>\n",
       "      <th>src/main/java/org/springframework/samples/petclinic/repository/jdbc/JdbcOwnerRepositoryImpl.java</th>\n",
       "      <td>27</td>\n",
       "    </tr>\n",
       "    <tr>\n",
       "      <th>src/main/java/org/springframework/samples/petclinic/web/OwnerController.java</th>\n",
       "      <td>23</td>\n",
       "    </tr>\n",
       "    <tr>\n",
       "      <th>src/main/java/org/springframework/samples/petclinic/web/PetController.java</th>\n",
       "      <td>22</td>\n",
       "    </tr>\n",
       "    <tr>\n",
       "      <th>src/test/java/org/springframework/samples/petclinic/service/AbstractClinicServiceTests.java</th>\n",
       "      <td>21</td>\n",
       "    </tr>\n",
       "    <tr>\n",
       "      <th>src/main/java/org/springframework/samples/petclinic/repository/jdbc/JdbcVetRepositoryImpl.java</th>\n",
       "      <td>20</td>\n",
       "    </tr>\n",
       "  </tbody>\n",
       "</table>\n",
       "</div>"
      ],
      "text/plain": [
       "                                                    changes\n",
       "src/main/java/org/springframework/samples/petcl...       27\n",
       "src/main/java/org/springframework/samples/petcl...       23\n",
       "src/main/java/org/springframework/samples/petcl...       22\n",
       "src/test/java/org/springframework/samples/petcl...       21\n",
       "src/main/java/org/springframework/samples/petcl...       20"
      ]
     },
     "execution_count": 4,
     "metadata": {},
     "output_type": "execute_result"
    }
   ],
   "source": [
    "each_change_per_file = pd.read_csv(\"changes.txt\", names=[\"changes\"])\n",
    "changes = pd.DataFrame(each_change_per_file['changes'].value_counts())\n",
    "changes.head()"
   ]
  },
  {
   "cell_type": "markdown",
   "id": "a85fd565",
   "metadata": {},
   "source": [
    "### Metrik 3: Hotspots"
   ]
  },
  {
   "cell_type": "code",
   "execution_count": 5,
   "id": "2a3a2719",
   "metadata": {},
   "outputs": [
    {
     "data": {
      "text/html": [
       "<div>\n",
       "<style scoped>\n",
       "    .dataframe tbody tr th:only-of-type {\n",
       "        vertical-align: middle;\n",
       "    }\n",
       "\n",
       "    .dataframe tbody tr th {\n",
       "        vertical-align: top;\n",
       "    }\n",
       "\n",
       "    .dataframe thead th {\n",
       "        text-align: right;\n",
       "    }\n",
       "</style>\n",
       "<table border=\"1\" class=\"dataframe\">\n",
       "  <thead>\n",
       "    <tr style=\"text-align: right;\">\n",
       "      <th></th>\n",
       "      <th>changes</th>\n",
       "      <th>lines</th>\n",
       "    </tr>\n",
       "  </thead>\n",
       "  <tbody>\n",
       "    <tr>\n",
       "      <th>src/main/java/org/springframework/samples/petclinic/repository/jdbc/JdbcOwnerRepositoryImpl.java</th>\n",
       "      <td>27</td>\n",
       "      <td>158.0</td>\n",
       "    </tr>\n",
       "    <tr>\n",
       "      <th>src/main/java/org/springframework/samples/petclinic/web/OwnerController.java</th>\n",
       "      <td>23</td>\n",
       "      <td>135.0</td>\n",
       "    </tr>\n",
       "    <tr>\n",
       "      <th>src/main/java/org/springframework/samples/petclinic/web/PetController.java</th>\n",
       "      <td>22</td>\n",
       "      <td>113.0</td>\n",
       "    </tr>\n",
       "    <tr>\n",
       "      <th>src/test/java/org/springframework/samples/petclinic/service/AbstractClinicServiceTests.java</th>\n",
       "      <td>21</td>\n",
       "      <td>203.0</td>\n",
       "    </tr>\n",
       "    <tr>\n",
       "      <th>src/main/java/org/springframework/samples/petclinic/repository/jdbc/JdbcVetRepositoryImpl.java</th>\n",
       "      <td>20</td>\n",
       "      <td>88.0</td>\n",
       "    </tr>\n",
       "  </tbody>\n",
       "</table>\n",
       "</div>"
      ],
      "text/plain": [
       "                                                    changes  lines\n",
       "src/main/java/org/springframework/samples/petcl...       27  158.0\n",
       "src/main/java/org/springframework/samples/petcl...       23  135.0\n",
       "src/main/java/org/springframework/samples/petcl...       22  113.0\n",
       "src/test/java/org/springframework/samples/petcl...       21  203.0\n",
       "src/main/java/org/springframework/samples/petcl...       20   88.0"
      ]
     },
     "execution_count": 5,
     "metadata": {},
     "output_type": "execute_result"
    }
   ],
   "source": [
    "hotspots = changes.join(lines).dropna()\n",
    "hotspots.head()"
   ]
  },
  {
   "cell_type": "markdown",
   "id": "f29339db",
   "metadata": {},
   "source": [
    "## Erste Auswertungen"
   ]
  },
  {
   "cell_type": "markdown",
   "id": "30b229cc",
   "metadata": {},
   "source": [
    "Zeige die Top 10 der meist geänderten Dateien an."
   ]
  },
  {
   "cell_type": "code",
   "execution_count": 6,
   "id": "57a151e1",
   "metadata": {},
   "outputs": [
    {
     "data": {
      "text/html": [
       "<div>\n",
       "<style scoped>\n",
       "    .dataframe tbody tr th:only-of-type {\n",
       "        vertical-align: middle;\n",
       "    }\n",
       "\n",
       "    .dataframe tbody tr th {\n",
       "        vertical-align: top;\n",
       "    }\n",
       "\n",
       "    .dataframe thead th {\n",
       "        text-align: right;\n",
       "    }\n",
       "</style>\n",
       "<table border=\"1\" class=\"dataframe\">\n",
       "  <thead>\n",
       "    <tr style=\"text-align: right;\">\n",
       "      <th></th>\n",
       "      <th>changes</th>\n",
       "    </tr>\n",
       "  </thead>\n",
       "  <tbody>\n",
       "    <tr>\n",
       "      <th>src/main/java/org/springframework/samples/petclinic/repository/jdbc/JdbcOwnerRepositoryImpl.java</th>\n",
       "      <td>27</td>\n",
       "    </tr>\n",
       "    <tr>\n",
       "      <th>src/main/java/org/springframework/samples/petclinic/web/OwnerController.java</th>\n",
       "      <td>23</td>\n",
       "    </tr>\n",
       "    <tr>\n",
       "      <th>src/main/java/org/springframework/samples/petclinic/web/PetController.java</th>\n",
       "      <td>22</td>\n",
       "    </tr>\n",
       "    <tr>\n",
       "      <th>src/test/java/org/springframework/samples/petclinic/service/AbstractClinicServiceTests.java</th>\n",
       "      <td>21</td>\n",
       "    </tr>\n",
       "    <tr>\n",
       "      <th>src/main/java/org/springframework/samples/petclinic/repository/jdbc/JdbcVetRepositoryImpl.java</th>\n",
       "      <td>20</td>\n",
       "    </tr>\n",
       "    <tr>\n",
       "      <th>src/main/java/org/springframework/samples/petclinic/web/VetController.java</th>\n",
       "      <td>19</td>\n",
       "    </tr>\n",
       "    <tr>\n",
       "      <th>src/main/java/org/springframework/samples/petclinic/repository/jdbc/JdbcVisitRepositoryImpl.java</th>\n",
       "      <td>19</td>\n",
       "    </tr>\n",
       "    <tr>\n",
       "      <th>src/main/java/org/springframework/samples/petclinic/web/VisitController.java</th>\n",
       "      <td>18</td>\n",
       "    </tr>\n",
       "    <tr>\n",
       "      <th>src/main/java/org/springframework/samples/petclinic/repository/jpa/JpaOwnerRepositoryImpl.java</th>\n",
       "      <td>17</td>\n",
       "    </tr>\n",
       "    <tr>\n",
       "      <th>src/main/java/org/springframework/samples/petclinic/repository/jdbc/JdbcPetRepositoryImpl.java</th>\n",
       "      <td>17</td>\n",
       "    </tr>\n",
       "  </tbody>\n",
       "</table>\n",
       "</div>"
      ],
      "text/plain": [
       "                                                    changes\n",
       "src/main/java/org/springframework/samples/petcl...       27\n",
       "src/main/java/org/springframework/samples/petcl...       23\n",
       "src/main/java/org/springframework/samples/petcl...       22\n",
       "src/test/java/org/springframework/samples/petcl...       21\n",
       "src/main/java/org/springframework/samples/petcl...       20\n",
       "src/main/java/org/springframework/samples/petcl...       19\n",
       "src/main/java/org/springframework/samples/petcl...       19\n",
       "src/main/java/org/springframework/samples/petcl...       18\n",
       "src/main/java/org/springframework/samples/petcl...       17\n",
       "src/main/java/org/springframework/samples/petcl...       17"
      ]
     },
     "execution_count": 6,
     "metadata": {},
     "output_type": "execute_result"
    }
   ],
   "source": [
    "hotspots.sort_values(by=\"changes\", ascending=False).head(10)[['changes']]"
   ]
  },
  {
   "cell_type": "markdown",
   "id": "94ac2e73",
   "metadata": {},
   "source": [
    "Zeige die Top 10 der größten Dateien an."
   ]
  },
  {
   "cell_type": "code",
   "execution_count": 7,
   "id": "8a696baf",
   "metadata": {},
   "outputs": [
    {
     "data": {
      "text/html": [
       "<div>\n",
       "<style scoped>\n",
       "    .dataframe tbody tr th:only-of-type {\n",
       "        vertical-align: middle;\n",
       "    }\n",
       "\n",
       "    .dataframe tbody tr th {\n",
       "        vertical-align: top;\n",
       "    }\n",
       "\n",
       "    .dataframe thead th {\n",
       "        text-align: right;\n",
       "    }\n",
       "</style>\n",
       "<table border=\"1\" class=\"dataframe\">\n",
       "  <thead>\n",
       "    <tr style=\"text-align: right;\">\n",
       "      <th></th>\n",
       "      <th>lines</th>\n",
       "    </tr>\n",
       "  </thead>\n",
       "  <tbody>\n",
       "    <tr>\n",
       "      <th>src/test/java/org/springframework/samples/petclinic/service/AbstractClinicServiceTests.java</th>\n",
       "      <td>203.0</td>\n",
       "    </tr>\n",
       "    <tr>\n",
       "      <th>src/test/java/org/springframework/samples/petclinic/web/OwnerControllerTests.java</th>\n",
       "      <td>181.0</td>\n",
       "    </tr>\n",
       "    <tr>\n",
       "      <th>src/main/java/org/springframework/samples/petclinic/repository/jdbc/OneToManyResultSetExtractor.java</th>\n",
       "      <td>159.0</td>\n",
       "    </tr>\n",
       "    <tr>\n",
       "      <th>src/main/java/org/springframework/samples/petclinic/repository/jdbc/JdbcOwnerRepositoryImpl.java</th>\n",
       "      <td>158.0</td>\n",
       "    </tr>\n",
       "    <tr>\n",
       "      <th>src/main/java/org/springframework/samples/petclinic/model/Owner.java</th>\n",
       "      <td>153.0</td>\n",
       "    </tr>\n",
       "    <tr>\n",
       "      <th>src/main/java/org/springframework/samples/petclinic/web/OwnerController.java</th>\n",
       "      <td>135.0</td>\n",
       "    </tr>\n",
       "    <tr>\n",
       "      <th>src/main/java/org/springframework/samples/petclinic/model/Visit.java</th>\n",
       "      <td>121.0</td>\n",
       "    </tr>\n",
       "    <tr>\n",
       "      <th>src/test/java/org/springframework/samples/petclinic/web/PetControllerTests.java</th>\n",
       "      <td>120.0</td>\n",
       "    </tr>\n",
       "    <tr>\n",
       "      <th>.mvn/wrapper/MavenWrapperDownloader.java</th>\n",
       "      <td>117.0</td>\n",
       "    </tr>\n",
       "    <tr>\n",
       "      <th>src/main/java/org/springframework/samples/petclinic/repository/jdbc/JdbcPetRepositoryImpl.java</th>\n",
       "      <td>116.0</td>\n",
       "    </tr>\n",
       "  </tbody>\n",
       "</table>\n",
       "</div>"
      ],
      "text/plain": [
       "                                                    lines\n",
       "src/test/java/org/springframework/samples/petcl...  203.0\n",
       "src/test/java/org/springframework/samples/petcl...  181.0\n",
       "src/main/java/org/springframework/samples/petcl...  159.0\n",
       "src/main/java/org/springframework/samples/petcl...  158.0\n",
       "src/main/java/org/springframework/samples/petcl...  153.0\n",
       "src/main/java/org/springframework/samples/petcl...  135.0\n",
       "src/main/java/org/springframework/samples/petcl...  121.0\n",
       "src/test/java/org/springframework/samples/petcl...  120.0\n",
       ".mvn/wrapper/MavenWrapperDownloader.java            117.0\n",
       "src/main/java/org/springframework/samples/petcl...  116.0"
      ]
     },
     "execution_count": 7,
     "metadata": {},
     "output_type": "execute_result"
    }
   ],
   "source": [
    "hotspots.sort_values(by=\"lines\", ascending=False).head(10)[['lines']]"
   ]
  },
  {
   "cell_type": "markdown",
   "id": "aa6e876f",
   "metadata": {},
   "source": [
    "Berechne und zeige Top 10 Hotspots an."
   ]
  },
  {
   "cell_type": "code",
   "execution_count": 8,
   "id": "5cd1779b",
   "metadata": {},
   "outputs": [
    {
     "data": {
      "text/html": [
       "<div>\n",
       "<style scoped>\n",
       "    .dataframe tbody tr th:only-of-type {\n",
       "        vertical-align: middle;\n",
       "    }\n",
       "\n",
       "    .dataframe tbody tr th {\n",
       "        vertical-align: top;\n",
       "    }\n",
       "\n",
       "    .dataframe thead th {\n",
       "        text-align: right;\n",
       "    }\n",
       "</style>\n",
       "<table border=\"1\" class=\"dataframe\">\n",
       "  <thead>\n",
       "    <tr style=\"text-align: right;\">\n",
       "      <th></th>\n",
       "      <th>rel_hotspot</th>\n",
       "    </tr>\n",
       "  </thead>\n",
       "  <tbody>\n",
       "    <tr>\n",
       "      <th>src/main/java/org/springframework/samples/petclinic/repository/jdbc/JdbcOwnerRepositoryImpl.java</th>\n",
       "      <td>1.778325</td>\n",
       "    </tr>\n",
       "    <tr>\n",
       "      <th>src/test/java/org/springframework/samples/petclinic/service/AbstractClinicServiceTests.java</th>\n",
       "      <td>1.777778</td>\n",
       "    </tr>\n",
       "    <tr>\n",
       "      <th>src/main/java/org/springframework/samples/petclinic/web/OwnerController.java</th>\n",
       "      <td>1.516876</td>\n",
       "    </tr>\n",
       "    <tr>\n",
       "      <th>src/main/java/org/springframework/samples/petclinic/web/PetController.java</th>\n",
       "      <td>1.371465</td>\n",
       "    </tr>\n",
       "    <tr>\n",
       "      <th>src/main/java/org/springframework/samples/petclinic/repository/jdbc/JdbcVisitRepositoryImpl.java</th>\n",
       "      <td>1.211093</td>\n",
       "    </tr>\n",
       "    <tr>\n",
       "      <th>src/main/java/org/springframework/samples/petclinic/repository/jdbc/JdbcPetRepositoryImpl.java</th>\n",
       "      <td>1.201058</td>\n",
       "    </tr>\n",
       "    <tr>\n",
       "      <th>src/main/java/org/springframework/samples/petclinic/repository/jdbc/JdbcVetRepositoryImpl.java</th>\n",
       "      <td>1.174238</td>\n",
       "    </tr>\n",
       "    <tr>\n",
       "      <th>src/main/java/org/springframework/samples/petclinic/web/VisitController.java</th>\n",
       "      <td>1.129721</td>\n",
       "    </tr>\n",
       "    <tr>\n",
       "      <th>src/main/java/org/springframework/samples/petclinic/model/Owner.java</th>\n",
       "      <td>1.087028</td>\n",
       "    </tr>\n",
       "    <tr>\n",
       "      <th>src/main/java/org/springframework/samples/petclinic/web/VetController.java</th>\n",
       "      <td>1.078088</td>\n",
       "    </tr>\n",
       "  </tbody>\n",
       "</table>\n",
       "</div>"
      ],
      "text/plain": [
       "                                                    rel_hotspot\n",
       "src/main/java/org/springframework/samples/petcl...     1.778325\n",
       "src/test/java/org/springframework/samples/petcl...     1.777778\n",
       "src/main/java/org/springframework/samples/petcl...     1.516876\n",
       "src/main/java/org/springframework/samples/petcl...     1.371465\n",
       "src/main/java/org/springframework/samples/petcl...     1.211093\n",
       "src/main/java/org/springframework/samples/petcl...     1.201058\n",
       "src/main/java/org/springframework/samples/petcl...     1.174238\n",
       "src/main/java/org/springframework/samples/petcl...     1.129721\n",
       "src/main/java/org/springframework/samples/petcl...     1.087028\n",
       "src/main/java/org/springframework/samples/petcl...     1.078088"
      ]
     },
     "execution_count": 8,
     "metadata": {},
     "output_type": "execute_result"
    }
   ],
   "source": [
    "hotspots[\"rel_changes\"] = hotspots['changes'] / hotspots['changes'].max()\n",
    "hotspots[\"rel_lines\"] = hotspots['lines'] / hotspots['lines'].max()\n",
    "hotspots['rel_hotspot'] = hotspots[\"rel_changes\"] + hotspots[\"rel_lines\"]\n",
    "hotspots.sort_values(by=\"rel_hotspot\", ascending=False)[[\"rel_hotspot\"]].head(10)"
   ]
  },
  {
   "cell_type": "markdown",
   "id": "a98f6e4c",
   "metadata": {},
   "source": [
    "## Visualisierung\n",
    "\n",
    "Hinweis: die einzelnen Code-Blöcke sind nur Implementierungsdetails zur Ausgabe der Visualisierung und daher nicht leserelevant."
   ]
  },
  {
   "cell_type": "code",
   "execution_count": 9,
   "id": "62f5fd93",
   "metadata": {},
   "outputs": [],
   "source": [
    "from matplotlib import cm\n",
    "from matplotlib.colors import rgb2hex\n",
    "import json\n",
    "import os\n",
    "\n",
    "\n",
    "# Daten für Visualisierung aufbereiten\n",
    "def create_plot_data(df, color_column_name, size_column_name, seperator):\n",
    "    plot_data = pd.DataFrame(index=df.index)\n",
    "    plot_data['value_for_color'] = df[color_column_name]\n",
    "    plot_data['ratio_for_color'] = plot_data['value_for_color'] / plot_data['value_for_color'].max()\n",
    "    plot_data['color'] = plot_data['ratio_for_color'].apply(lambda x : rgb2hex(cm.coolwarm(x)))\n",
    "    plot_data['size'] = df[size_column_name]\n",
    "    plot_data[['path', 'name']] = df.index.str.rsplit(seperator, n=1).to_list()\n",
    "    plot_data['path_list'] = plot_data['path'].str.split(seperator)\n",
    "    return plot_data\n",
    "\n",
    "\n",
    "# in D3-Datenformat umwandeln\n",
    "def create_flare_json(df):\n",
    "\n",
    "    json_data = {'name': 'flare', 'children': []}\n",
    "\n",
    "    for _, series in df.iterrows():\n",
    "        hierarchical_data = series['path_list']\n",
    "\n",
    "        children = json_data['children']\n",
    "        for part in hierarchical_data:\n",
    "            entry = next((child for child in children if child.get('name', '') == part), None)\n",
    "            if not entry:\n",
    "                entry = {'name': part, 'children': []}\n",
    "                children.append(entry)\n",
    "            children = entry['children']\n",
    "\n",
    "        children.append({\n",
    "            'name': f\"{series['name']} ({series['size']} [{series['value_for_color']}])\",\n",
    "            'size': series['size'],\n",
    "            'color': series['color']\n",
    "        })\n",
    "\n",
    "    return json_data\n",
    "\n",
    "\n",
    "# Template mit Daten füttern\n",
    "def create_hotspot_file(hotspots, color_column_name, size_column_name, separator):\n",
    "    json_data = create_flare_json(create_plot_data(hotspots, color_column_name, size_column_name,separator))\n",
    "            \n",
    "    with open(\"d3/template_hierarchical_d3_inline.html\") as html_template:\n",
    "        html = html_template.read().replace(\"###FLARE_JSON###\", str(json_data))\n",
    "        \n",
    "        os.makedirs(\"output\", exist_ok=True)\n",
    "        with open(f'hotspots.html', mode='w') as html_out:\n",
    "            html_out.write(html)"
   ]
  },
  {
   "cell_type": "markdown",
   "id": "1f696075",
   "metadata": {},
   "source": [
    "### Erzeuge Hotspot-Visualisierung"
   ]
  },
  {
   "cell_type": "code",
   "execution_count": 10,
   "id": "42d6c55a",
   "metadata": {},
   "outputs": [],
   "source": [
    "create_hotspot_file(hotspots, \"changes\", \"lines\", \"/\")"
   ]
  }
 ],
 "metadata": {
  "kernelspec": {
   "display_name": "Python 3 (ipykernel)",
   "language": "python",
   "name": "python3"
  },
  "language_info": {
   "codemirror_mode": {
    "name": "ipython",
    "version": 3
   },
   "file_extension": ".py",
   "mimetype": "text/x-python",
   "name": "python",
   "nbconvert_exporter": "python",
   "pygments_lexer": "ipython3",
   "version": "3.9.7"
  }
 },
 "nbformat": 4,
 "nbformat_minor": 5
}
