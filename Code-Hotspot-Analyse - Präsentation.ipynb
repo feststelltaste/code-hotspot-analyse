{
 "cells": [
  {
   "cell_type": "markdown",
   "id": "494fcbe6",
   "metadata": {
    "slideshow": {
     "slide_type": "slide"
    }
   },
   "source": [
    "# Cheatsheet Code-Hotspot-Analyse\n",
    "<strong>Step-by-Step Demo</strong>"
   ]
  },
  {
   "cell_type": "markdown",
   "id": "d7759c33",
   "metadata": {
    "slideshow": {
     "slide_type": "slide"
    }
   },
   "source": [
    "### Rohdaten von der Kommandozeile"
   ]
  },
  {
   "cell_type": "markdown",
   "id": "a66e8f3c",
   "metadata": {
    "slideshow": {
     "slide_type": "slide"
    }
   },
   "source": [
    "#### Lines of Code\n",
    "Einfache Variante mit `find`"
   ]
  },
  {
   "cell_type": "code",
   "execution_count": 1,
   "id": "f8bf6dbc",
   "metadata": {
    "slideshow": {
     "slide_type": "-"
    }
   },
   "outputs": [
    {
     "name": "stdout",
     "output_type": "stream",
     "text": [
      "   117 ./.mvn/wrapper/MavenWrapperDownloader.java\n",
      "    47 ./src/main/java/org/springframework/samples/petclinic/model/BaseEntity.java\n",
      "    48 ./src/main/java/org/springframework/samples/petclinic/model/NamedEntity.java\n",
      "   153 ./src/main/java/org/springframework/samples/petclinic/model/Owner.java\n",
      "     5 ./src/main/java/org/springframework/samples/petclinic/model/package-info.java\n",
      "    55 ./src/main/java/org/springframework/samples/petclinic/model/Person.java\n",
      "   111 ./src/main/java/org/springframework/samples/petclinic/model/Pet.java\n",
      "    29 ./src/main/java/org/springframework/samples/petclinic/model/PetType.java\n",
      "    30 ./src/main/java/org/springframework/samples/petclinic/model/Specialty.java\n",
      "    78 ./src/main/java/org/springframework/samples/petclinic/model/Vet.java\n"
     ]
    }
   ],
   "source": [
    "%%bash\n",
    "cd spring-framework-petclinic/\n",
    "find . -name *.java | xargs wc -l | head -n-1 > ../file_sizes.txt\n",
    "head ../file_sizes.txt"
   ]
  },
  {
   "cell_type": "markdown",
   "id": "c1fc83ea",
   "metadata": {
    "slideshow": {
     "slide_type": "slide"
    }
   },
   "source": [
    "Genauere Variante mit `cloc`"
   ]
  },
  {
   "cell_type": "code",
   "execution_count": 2,
   "id": "234a0327",
   "metadata": {
    "slideshow": {
     "slide_type": "-"
    }
   },
   "outputs": [
    {
     "name": "stdout",
     "output_type": "stream",
     "text": [
      "github.com/AlDanial/cloc v 1.98  T=3.09 s (35.6 files/s, 16318.7 lines/s)\n",
      "-------------------------------------------------------------------------------\n",
      "Language                     files          blank        comment           code\n",
      "-------------------------------------------------------------------------------\n",
      "Text                             5            369              0          13764\n",
      "CSV                              1              0              0          11611\n",
      "SVG                              2              0              0           9158\n",
      "CSS                              1            852             28           7131\n",
      "Java                            59            593           1395           2163\n",
      "XML                              9             54             94            590\n",
      "Maven                            1             42             32            528\n",
      "SQL                              8             71              0            414\n",
      "JSP                              9             35              0            367\n",
      "SCSS                             4             64             16            304\n",
      "Bourne Shell                     1             33             62            215\n",
      "Markdown                         1             74              0            161\n",
      "DOS Batch                        1             35              0            147\n",
      "Properties                       6              4              8             34\n",
      "YAML                             1              5              2             22\n",
      "INI                              1              2              0             10\n",
      "-------------------------------------------------------------------------------\n",
      "SUM:                           110           2233           1637          46619\n",
      "-------------------------------------------------------------------------------\n"
     ]
    }
   ],
   "source": [
    "%%bash\n",
    "cloc spring-framework-petclinic/"
   ]
  },
  {
   "cell_type": "markdown",
   "id": "f79a8b3f",
   "metadata": {
    "slideshow": {
     "slide_type": "slide"
    }
   },
   "source": [
    "`cloc` Datei-basiert"
   ]
  },
  {
   "cell_type": "code",
   "execution_count": 3,
   "id": "a32bfecb",
   "metadata": {
    "slideshow": {
     "slide_type": "-"
    }
   },
   "outputs": [
    {
     "name": "stdout",
     "output_type": "stream",
     "text": [
      "github.com/AlDanial/cloc v 1.98  T=3.25 s (33.9 files/s, 15547.3 lines/s)\n",
      "-----------------------------------------------------------------------------------------------------------------------------------------------------------------------------------------\n",
      "File                                                                                                                                                  blank        comment           code\n",
      "-----------------------------------------------------------------------------------------------------------------------------------------------------------------------------------------\n",
      "spring-framework-petclinic/git_diff_output.txt                                                                                                          325              0          13551\n",
      "spring-framework-petclinic/git_diff_output.csv                                                                                                            0              0          11611\n",
      "spring-framework-petclinic/src/main/webapp/resources/fonts/varela_round-webfont.svg                                                                       0              0           7875\n",
      "spring-framework-petclinic/src/main/webapp/resources/css/petclinic.css                                                                                  852             28           7131\n",
      "spring-framework-petclinic/src/main/webapp/resources/fonts/montserrat-webfont.svg                                                                         0              0           1283\n",
      "spring-framework-petclinic/pom.xml                                                                                                                       42             32            528\n",
      "spring-framework-petclinic/src/test/jmeter/petclinic_test_plan.jmx                                                                                        0              0            401\n",
      "spring-framework-petclinic/mvnw                                                                                                                          33             62            215\n",
      "spring-framework-petclinic/LICENSE.txt                                                                                                                   32              0            169\n",
      "spring-framework-petclinic/readme.md                                                                                                                     74              0            161\n",
      "spring-framework-petclinic/src/main/webapp/resources/scss/petclinic.scss                                                                                 39             13            158\n",
      "spring-framework-petclinic/src/test/java/org/springframework/samples/petclinic/web/OwnerControllerTests.java                                             26              5            150\n",
      "spring-framework-petclinic/mvnw.cmd                                                                                                                      35              0            147\n",
      "spring-framework-petclinic/src/test/java/org/springframework/samples/petclinic/service/AbstractClinicServiceTests.java                                   32             36            135\n",
      "spring-framework-petclinic/src/main/java/org/springframework/samples/petclinic/repository/jdbc/JdbcOwnerRepositoryImpl.java                              19             41             98\n",
      "spring-framework-petclinic/src/test/java/org/springframework/samples/petclinic/web/PetControllerTests.java                                               17              5             98\n",
      "spring-framework-petclinic/src/main/java/org/springframework/samples/petclinic/model/Owner.java                                                          22             35             96\n",
      "spring-framework-petclinic/src/main/webapp/WEB-INF/jsp/owners/ownerDetails.jsp                                                                           10              0             86\n",
      "spring-framework-petclinic/src/main/java/org/springframework/samples/petclinic/web/OwnerController.java                                                  20             32             83\n",
      "spring-framework-petclinic/.mvn/wrapper/MavenWrapperDownloader.java                                                                                      10             31             76\n",
      "spring-framework-petclinic/src/main/java/org/springframework/samples/petclinic/web/PetController.java                                                    17             20             76\n",
      "spring-framework-petclinic/src/main/java/org/springframework/samples/petclinic/repository/jdbc/JdbcPetRepositoryImpl.java                                15             26             75\n",
      "spring-framework-petclinic/src/main/java/org/springframework/samples/petclinic/service/ClinicServiceImpl.java                                            18             21             74\n",
      "spring-framework-petclinic/src/main/java/org/springframework/samples/petclinic/repository/jdbc/OneToManyResultSetExtractor.java                          15             74             70\n",
      "spring-framework-petclinic/src/main/java/org/springframework/samples/petclinic/model/Pet.java                                                            20             22             69\n",
      "spring-framework-petclinic/src/test/java/org/springframework/samples/petclinic/web/VetControllerTests.java                                               13              3             63\n",
      "spring-framework-petclinic/src/main/webapp/WEB-INF/jsp/pets/createOrUpdateVisitForm.jsp                                                                   7              0             62\n",
      "spring-framework-petclinic/src/main/webapp/resources/scss/header.scss                                                                                    10              1             62\n",
      "spring-framework-petclinic/src/main/resources/db/postgresql/schema.sql                                                                                   23              0             61\n",
      "spring-framework-petclinic/src/test/java/org/springframework/samples/petclinic/web/PetTypeFormatterTests.java                                            12             10             59\n",
      "spring-framework-petclinic/src/main/java/org/springframework/samples/petclinic/repository/jdbc/JdbcVisitRepositoryImpl.java                              17             29             57\n",
      "spring-framework-petclinic/src/main/java/org/springframework/samples/petclinic/util/CallMonitoringAspect.java                                            14             26             57\n",
      "spring-framework-petclinic/src/main/resources/db/h2/schema.sql                                                                                            8              0             56\n",
      "spring-framework-petclinic/src/main/resources/db/hsqldb/schema.sql                                                                                        8              0             56\n",
      "spring-framework-petclinic/src/main/resources/db/mysql/schema.sql                                                                                         8              0             53\n",
      "spring-framework-petclinic/src/main/webapp/resources/scss/typography.scss                                                                                 8              2             50\n",
      "spring-framework-petclinic/src/main/java/org/springframework/samples/petclinic/repository/jdbc/JdbcVetRepositoryImpl.java                                 8             32             48\n",
      "spring-framework-petclinic/src/main/webapp/WEB-INF/jsp/pets/createOrUpdatePetForm.jsp                                                                     1              0             48\n",
      "spring-framework-petclinic/src/main/resources/db/h2/data.sql                                                                                              6              0             47\n",
      "spring-framework-petclinic/src/main/resources/db/hsqldb/data.sql                                                                                          6              0             47\n",
      "spring-framework-petclinic/src/main/resources/db/mysql/data.sql                                                                                           6              0             47\n",
      "spring-framework-petclinic/src/main/resources/db/postgresql/data.sql                                                                                      6              0             47\n",
      "spring-framework-petclinic/src/main/resources/spring/business-config.xml                                                                                 19             31             46\n",
      "spring-framework-petclinic/src/main/webapp/WEB-INF/jsp/owners/ownersList.jsp                                                                              2              0             46\n",
      "spring-framework-petclinic/src/main/java/org/springframework/samples/petclinic/model/Vet.java                                                            11             23             44\n",
      "spring-framework-petclinic/src/main/java/org/springframework/samples/petclinic/model/Visit.java                                                          16             62             43\n",
      "spring-framework-petclinic/src/test/java/org/springframework/samples/petclinic/web/VisitControllerTests.java                                             15             20             43\n",
      "spring-framework-petclinic/src/main/webapp/WEB-INF/jsp/vets/vetList.jsp                                                                                   3              0             41\n",
      "spring-framework-petclinic/src/main/java/org/springframework/samples/petclinic/web/VetController.java                                                    11             25             40\n",
      "spring-framework-petclinic/src/main/java/org/springframework/samples/petclinic/web/VisitController.java                                                  14             45             35\n",
      "spring-framework-petclinic/src/main/java/org/springframework/samples/petclinic/repository/jpa/JpaOwnerRepositoryImpl.java                                12             35             34\n",
      "spring-framework-petclinic/src/main/resources/spring/mvc-core-config.xml                                                                                 12             22             34\n",
      "spring-framework-petclinic/src/main/webapp/resources/scss/responsive.scss                                                                                 7              0             34\n",
      "spring-framework-petclinic/src/main/java/org/springframework/samples/petclinic/PetclinicInitializer.java                                                 10             38             33\n",
      "spring-framework-petclinic/src/main/webapp/WEB-INF/jsp/owners/createOrUpdateOwnerForm.jsp                                                                 1              0             33\n",
      "spring-framework-petclinic/src/test/java/org/springframework/samples/petclinic/web/CrashControllerTests.java                                              8              5             33\n",
      "spring-framework-petclinic/src/main/java/org/springframework/samples/petclinic/repository/jpa/JpaPetRepositoryImpl.java                                   9             24             30\n",
      "spring-framework-petclinic/src/main/java/org/springframework/samples/petclinic/web/PetTypeFormatter.java                                                 10             27             29\n",
      "spring-framework-petclinic/src/main/resources/spring/tools-config.xml                                                                                     6             14             29\n",
      "spring-framework-petclinic/src/main/webapp/WEB-INF/jsp/owners/findOwners.jsp                                                                              5              0             29\n",
      "spring-framework-petclinic/src/test/java/org/springframework/samples/petclinic/model/ValidatorTests.java                                                 11              5             29\n",
      "spring-framework-petclinic/src/main/java/org/springframework/samples/petclinic/repository/jpa/JpaVisitRepositoryImpl.java                                10             26             28\n",
      "spring-framework-petclinic/src/main/java/org/springframework/samples/petclinic/repository/jdbc/JdbcPetVisitExtractor.java                                 7             19             27\n",
      "spring-framework-petclinic/src/main/java/org/springframework/samples/petclinic/web/PetValidator.java                                                      9             30             26\n",
      "spring-framework-petclinic/src/main/resources/spring/datasource-config.xml                                                                                5             12             26\n",
      "spring-framework-petclinic/src/main/java/org/springframework/samples/petclinic/model/Person.java                                                         10             20             25\n",
      "spring-framework-petclinic/src/main/resources/spring/mvc-view-config.xml                                                                                  4             12             24\n",
      "spring-framework-petclinic/.github/workflows/maven-build.yml                                                                                              5              2             22\n",
      "spring-framework-petclinic/src/main/resources/db/postgresql/petclinic_db_setup_postgresql.txt                                                             7              0             22\n",
      "spring-framework-petclinic/src/main/java/org/springframework/samples/petclinic/model/BaseEntity.java                                                      6             21             20\n",
      "spring-framework-petclinic/src/main/java/org/springframework/samples/petclinic/model/NamedEntity.java                                                     8             22             18\n",
      "spring-framework-petclinic/src/main/java/org/springframework/samples/petclinic/repository/jdbc/JdbcPet.java                                               9             21             18\n",
      "spring-framework-petclinic/src/main/java/org/springframework/samples/petclinic/service/ClinicService.java                                                14             20             18\n",
      "spring-framework-petclinic/src/main/resources/db/mysql/petclinic_db_setup_mysql.txt                                                                       5              0             18\n",
      "spring-framework-petclinic/src/main/java/org/springframework/samples/petclinic/repository/jdbc/JdbcPetRowMapper.java                                      4             19             17\n",
      "spring-framework-petclinic/src/main/java/org/springframework/samples/petclinic/repository/jpa/JpaVetRepositoryImpl.java                                   7             24             17\n",
      "spring-framework-petclinic/src/main/java/org/springframework/samples/petclinic/model/Vets.java                                                            6             21             16\n",
      "spring-framework-petclinic/src/main/java/org/springframework/samples/petclinic/repository/jdbc/JdbcVisitRowMapper.java                                    5             19             16\n",
      "spring-framework-petclinic/src/main/java/org/springframework/samples/petclinic/util/EntityUtils.java                                                      7             34             16\n",
      "spring-framework-petclinic/src/main/resources/logback.xml                                                                                                 5              1             16\n",
      "spring-framework-petclinic/src/main/java/org/springframework/samples/petclinic/repository/springdatajpa/SpringDataOwnerRepository.java                    5             21             15\n",
      "spring-framework-petclinic/src/main/webapp/WEB-INF/jsp/welcome.jsp                                                                                        1              0             13\n",
      "spring-framework-petclinic/src/main/java/org/springframework/samples/petclinic/repository/springdatajpa/SpringDataPetRepository.java                      4             21             12\n",
      "spring-framework-petclinic/src/main/java/org/springframework/samples/petclinic/web/CrashController.java                                                   5             23             11\n",
      "spring-framework-petclinic/.editorconfig                                                                                                                  2              0             10\n",
      "spring-framework-petclinic/src/main/java/org/springframework/samples/petclinic/repository/PetRepository.java                                              7             42             10\n",
      "spring-framework-petclinic/src/main/java/org/springframework/samples/petclinic/repository/OwnerRepository.java                                            9             45              9\n",
      "spring-framework-petclinic/src/main/webapp/WEB-INF/jsp/exception.jsp                                                                                      5              0              9\n",
      "spring-framework-petclinic/src/test/java/org/springframework/samples/petclinic/service/ClinicServiceJdbcTests.java                                        5             22              9\n",
      "spring-framework-petclinic/src/test/resources/spring/mvc-test-config.xml                                                                                  3              0              9\n",
      "spring-framework-petclinic/src/main/java/org/springframework/samples/petclinic/repository/VisitRepository.java                                            6             30              8\n",
      "spring-framework-petclinic/src/main/resources/messages/messages.properties                                                                                0              0              8\n",
      "spring-framework-petclinic/src/main/resources/messages/messages_de.properties                                                                             0              0              8\n",
      "spring-framework-petclinic/src/main/resources/messages/messages_es.properties                                                                             0              0              8\n",
      "spring-framework-petclinic/src/main/resources/spring/data-access.properties                                                                               4              7              8\n",
      "spring-framework-petclinic/src/main/java/org/springframework/samples/petclinic/model/PetType.java                                                         3             19              7\n",
      "spring-framework-petclinic/src/main/java/org/springframework/samples/petclinic/model/Specialty.java                                                       3             20              7\n",
      "spring-framework-petclinic/src/test/java/org/springframework/samples/petclinic/service/ClinicServiceJpaTests.java                                         4              8              7\n",
      "spring-framework-petclinic/src/test/java/org/springframework/samples/petclinic/service/ClinicServiceSpringDataJpaTests.java                               4              6              7\n",
      "spring-framework-petclinic/src/main/java/org/springframework/samples/petclinic/repository/VetRepository.java                                              6             29              6\n",
      "spring-framework-petclinic/src/main/java/org/springframework/samples/petclinic/repository/springdatajpa/SpringDataVetRepository.java                      2             21              6\n",
      "spring-framework-petclinic/src/main/java/org/springframework/samples/petclinic/repository/springdatajpa/SpringDataVisitRepository.java                    2             21              6\n",
      "spring-framework-petclinic/src/main/webapp/WEB-INF/jetty-web.xml                                                                                          0              2              5\n",
      "spring-framework-petclinic/src/main/webapp/WEB-INF/no-spring-config-files-there.txt                                                                       0              0              4\n",
      "spring-framework-petclinic/.mvn/wrapper/maven-wrapper.properties                                                                                          0              0              2\n",
      "spring-framework-petclinic/src/main/java/org/springframework/samples/petclinic/model/package-info.java                                                    1              3              1\n",
      "spring-framework-petclinic/src/main/java/org/springframework/samples/petclinic/repository/jdbc/package-info.java                                          1              4              1\n",
      "spring-framework-petclinic/src/main/java/org/springframework/samples/petclinic/repository/jpa/package-info.java                                           1              4              1\n",
      "spring-framework-petclinic/src/main/java/org/springframework/samples/petclinic/web/package-info.java                                                      1              3              1\n",
      "spring-framework-petclinic/src/main/resources/messages/messages_en.properties                                                                             0              1              0\n",
      "-----------------------------------------------------------------------------------------------------------------------------------------------------------------------------------------\n",
      "SUM:                                                                                                                                                   2233           1637          46619\n",
      "-----------------------------------------------------------------------------------------------------------------------------------------------------------------------------------------\n"
     ]
    }
   ],
   "source": [
    "%%bash\n",
    "cloc spring-framework-petclinic/ --by-file"
   ]
  },
  {
   "cell_type": "markdown",
   "id": "cb40f01e",
   "metadata": {
    "slideshow": {
     "slide_type": "slide"
    }
   },
   "source": [
    "Der passende Output von `cloc`"
   ]
  },
  {
   "cell_type": "code",
   "execution_count": null,
   "id": "601576dc",
   "metadata": {
    "slideshow": {
     "slide_type": "-"
    }
   },
   "outputs": [],
   "source": [
    "%%bash\n",
    "cloc spring-framework-petclinic/ --by-file --quiet --csv --out lines.csv\n",
    "head lines.csv"
   ]
  },
  {
   "cell_type": "markdown",
   "id": "0d4ad7d7",
   "metadata": {
    "slideshow": {
     "slide_type": "slide"
    }
   },
   "source": [
    "**Änderungen**"
   ]
  },
  {
   "cell_type": "code",
   "execution_count": null,
   "id": "9c8d52cf",
   "metadata": {
    "slideshow": {
     "slide_type": "-"
    }
   },
   "outputs": [],
   "source": [
    "%%bash\n",
    "cd spring-framework-petclinic/\n",
    "git log --name-only --no-merges --format=\"\" -- *.java > ../changes.txt\n",
    "head ../changes.txt"
   ]
  },
  {
   "cell_type": "markdown",
   "id": "77707e34",
   "metadata": {
    "slideshow": {
     "slide_type": "slide"
    }
   },
   "source": [
    "### Datenmassage mit Data-Science-Werkzeugen"
   ]
  },
  {
   "cell_type": "markdown",
   "id": "de4a0244",
   "metadata": {
    "slideshow": {
     "slide_type": "slide"
    }
   },
   "source": [
    "In der Theorie: Datei mit Zeilenanzahlen direkt einlesen"
   ]
  },
  {
   "cell_type": "code",
   "execution_count": null,
   "id": "e024e1fe",
   "metadata": {
    "slideshow": {
     "slide_type": "-"
    }
   },
   "outputs": [],
   "source": [
    "!head -n 4 lines.txt"
   ]
  },
  {
   "cell_type": "code",
   "execution_count": null,
   "id": "01617705",
   "metadata": {
    "slideshow": {
     "slide_type": "fragment"
    }
   },
   "outputs": [],
   "source": [
    "import pandas as pd\n",
    "pd.read_csv(\"lines.txt\").head(3)"
   ]
  },
  {
   "cell_type": "markdown",
   "id": "6545c7b5",
   "metadata": {
    "slideshow": {
     "slide_type": "slide"
    }
   },
   "source": [
    "In der Praxis: Einlesen mit kleineren Anpassungen"
   ]
  },
  {
   "cell_type": "code",
   "execution_count": null,
   "id": "d91ad034",
   "metadata": {
    "scrolled": true,
    "slideshow": {
     "slide_type": "-"
    }
   },
   "outputs": [],
   "source": [
    "lines = pd.read_csv(\"lines.txt\", index_col=1)[:-1][['code']]\n",
    "lines.index = lines.index.str[2:]\n",
    "lines.head()"
   ]
  },
  {
   "cell_type": "markdown",
   "id": "3a5b3ff5",
   "metadata": {
    "slideshow": {
     "slide_type": "slide"
    }
   },
   "source": [
    "Datei mit jeder geänderten Datei einlesen"
   ]
  },
  {
   "cell_type": "code",
   "execution_count": null,
   "id": "d2312a85",
   "metadata": {
    "slideshow": {
     "slide_type": "-"
    }
   },
   "outputs": [],
   "source": [
    "!head -n 5 changes.txt"
   ]
  },
  {
   "cell_type": "code",
   "execution_count": null,
   "id": "3c0e4280",
   "metadata": {
    "slideshow": {
     "slide_type": "fragment"
    }
   },
   "outputs": [],
   "source": [
    "change_per_file = pd.read_csv(\"changes.txt\", names=['filepath'])\n",
    "change_per_file.head()"
   ]
  },
  {
   "cell_type": "markdown",
   "id": "f45e61df",
   "metadata": {
    "slideshow": {
     "slide_type": "slide"
    }
   },
   "source": [
    "Änderungen / Vorkommen der Dateien zählen"
   ]
  },
  {
   "cell_type": "code",
   "execution_count": null,
   "id": "625cdce8",
   "metadata": {
    "slideshow": {
     "slide_type": "-"
    }
   },
   "outputs": [],
   "source": [
    "changes = pd.DataFrame(change_per_file['filepath'].value_counts())\n",
    "changes.columns = [\"changes\"]\n",
    "changes.head()"
   ]
  },
  {
   "cell_type": "markdown",
   "id": "b26bc156",
   "metadata": {
    "slideshow": {
     "slide_type": "slide"
    }
   },
   "source": [
    "Daten vereinen"
   ]
  },
  {
   "cell_type": "code",
   "execution_count": null,
   "id": "6394fcd3",
   "metadata": {
    "slideshow": {
     "slide_type": "-"
    }
   },
   "outputs": [],
   "source": [
    "hotspots = changes.join(lines).dropna()\n",
    "hotspots.head()"
   ]
  },
  {
   "cell_type": "markdown",
   "id": "fc731287",
   "metadata": {
    "slideshow": {
     "slide_type": "slide"
    }
   },
   "source": [
    "### Hinter den Kulissen der Visualisierung\n",
    "Wir brauchen: Datenformat und Template"
   ]
  },
  {
   "cell_type": "markdown",
   "id": "de7356cf",
   "metadata": {
    "slideshow": {
     "slide_type": "-"
    }
   },
   "source": [
    "<small><pre>{\n",
    "    'name': 'flare',\n",
    "    'children': [{\n",
    "            'name': 'src',\n",
    "            'children': [{\n",
    "                    'name': 'main',\n",
    "                    'children': [{\n",
    "                            'name': 'java',\n",
    "                            'children': [{\n",
    "                                    'name': 'org',\n",
    "                                    'children': [{\n",
    "                                            'name': 'springframework',\n",
    "                                            'children': [{\n",
    "                                                    'name': 'samples',\n",
    "                                                    'children': [{\n",
    "                                                            'name': 'petclinic',\n",
    "                                                            'children': [{\n",
    "                                                                    'name': 'repository',\n",
    "                                                                    'children': [{\n",
    "                                                                            'name': 'jdbc',\n",
    "                                                                            'children': [{\n",
    "                                                                                    'name': 'JdbcOwnerRepositoryImpl.java (158.0 [27])',\n",
    "                                                                                    'size': 158.0,\n",
    "                                                                                    'color': '#b40426'\n",
    "                                                                                }, {\n",
    "                                                                                    'name': 'JdbcVetRepositoryImpl.java (88.0 [20])',\n",
    "                                                                                    'size': 88.0,\n",
    "                                                                                    'color': '#f59d7e'\n",
    "                                                                                }, {\n",
    "                                                                                    'name': 'JdbcVisitRepositoryImpl.java (103.0 [19])',\n",
    "                                                                                    'size': 103.0,\n",
    "                                                                                    'color': '#f7aa8c'\n",
    "                                                                                },\n",
    "                                                                                ...\n",
    "</pre></small>"
   ]
  },
  {
   "cell_type": "markdown",
   "id": "786ea93b",
   "metadata": {
    "slideshow": {
     "slide_type": "slide"
    }
   },
   "source": [
    "Daten für Visualisierung aufbereiten."
   ]
  },
  {
   "cell_type": "code",
   "execution_count": null,
   "id": "25fb09e0",
   "metadata": {
    "slideshow": {
     "slide_type": "-"
    }
   },
   "outputs": [],
   "source": [
    "from matplotlib import cm\n",
    "from matplotlib.colors import rgb2hex\n",
    "\n",
    "def create_plot_data(df, color_column_name, size_column_name, seperator):\n",
    "    plot_data = pd.DataFrame(index=df.index)\n",
    "    plot_data['value_for_color'] = df[color_column_name]\n",
    "    plot_data['ratio_for_color'] = plot_data['value_for_color'] / plot_data['value_for_color'].max()\n",
    "    plot_data['color'] = plot_data['ratio_for_color'].apply(lambda x : rgb2hex(cm.coolwarm(x)))\n",
    "    plot_data['size'] = df[size_column_name]\n",
    "    plot_data[['path', 'name']] = df.index.str.rsplit(seperator, n=1).to_list()\n",
    "    plot_data['path_list'] = plot_data['path'].str.split(seperator)\n",
    "    return plot_data"
   ]
  },
  {
   "cell_type": "markdown",
   "id": "76eb8f7c",
   "metadata": {
    "slideshow": {
     "slide_type": "slide"
    }
   },
   "source": [
    "In D3-Datenformat (JSON) umwandeln"
   ]
  },
  {
   "cell_type": "code",
   "execution_count": null,
   "id": "471c1e9e",
   "metadata": {
    "slideshow": {
     "slide_type": "-"
    }
   },
   "outputs": [],
   "source": [
    "\n",
    "\n",
    "import json\n",
    "\n",
    "def create_flare_json(df):\n",
    "\n",
    "    json_data = {'name': 'flare', 'children': []}\n",
    "\n",
    "    for _, series in df.iterrows():\n",
    "        hierarchical_data = series['path_list']\n",
    "\n",
    "        children = json_data['children']\n",
    "        for part in hierarchical_data:\n",
    "            entry = next((child for child in children if child.get('name', '') == part), None)\n",
    "            if not entry:\n",
    "                entry = {'name': part, 'children': []}\n",
    "                children.append(entry)\n",
    "            children = entry['children']\n",
    "\n",
    "        children.append({\n",
    "            'name': f\"{series['name']} ({series['size']} [{series['value_for_color']}])\",\n",
    "            'size': series['size'],\n",
    "            'color': series['color']\n",
    "        })\n",
    "\n",
    "    return json_data"
   ]
  },
  {
   "cell_type": "markdown",
   "id": "54d7eb7b",
   "metadata": {
    "slideshow": {
     "slide_type": "slide"
    }
   },
   "source": [
    "Alles anstoßen, HTML-Template mit Daten füttern und Datei erzeugen"
   ]
  },
  {
   "cell_type": "code",
   "execution_count": null,
   "id": "f8d82463",
   "metadata": {
    "slideshow": {
     "slide_type": "-"
    }
   },
   "outputs": [],
   "source": [
    "from IPython.core.display import HTML\n",
    "\n",
    "def create_hotspot_file(hotspots, color_column_name, size_column_name, separator):\n",
    "    json_data = create_flare_json(create_plot_data(hotspots, color_column_name, size_column_name,separator))\n",
    "            \n",
    "    with open(\"vis/template_hierarchical_d3_inline.html\") as html_template:\n",
    "        html = html_template.read().replace(\"###FLARE_JSON###\", str(json_data))\n",
    "        \n",
    "        with open(f'hotspots.html', mode='w') as html_out:\n",
    "            html_out.write(html)\n",
    "    \n",
    "    return HTML('<a href=\"hotspots.html\">hotspots.html</a>')\n",
    "            \n",
    "create_hotspot_file(hotspots, \"changes\", \"code\", \"/\")"
   ]
  },
  {
   "cell_type": "code",
   "execution_count": null,
   "id": "55f0ad04",
   "metadata": {},
   "outputs": [],
   "source": []
  },
  {
   "cell_type": "markdown",
   "id": "e14c365f",
   "metadata": {
    "slideshow": {
     "slide_type": "slide"
    }
   },
   "source": [
    "### Ende der Demo"
   ]
  }
 ],
 "metadata": {
  "celltoolbar": "Slideshow",
  "kernelspec": {
   "display_name": "Python 3 (ipykernel)",
   "language": "python",
   "name": "python3"
  },
  "language_info": {
   "codemirror_mode": {
    "name": "ipython",
    "version": 3
   },
   "file_extension": ".py",
   "mimetype": "text/x-python",
   "name": "python",
   "nbconvert_exporter": "python",
   "pygments_lexer": "ipython3",
   "version": "3.9.7"
  },
  "rise": {
   "controls": false,
   "showSlideNumber": "speaker",
   "slideNumber ": "false",
   "transition": "none"
  }
 },
 "nbformat": 4,
 "nbformat_minor": 5
}
