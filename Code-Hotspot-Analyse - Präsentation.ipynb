{
 "cells": [
  {
   "cell_type": "markdown",
   "id": "494fcbe6",
   "metadata": {
    "slideshow": {
     "slide_type": "slide"
    }
   },
   "source": [
    "# Code-Hotspot-Analyse\n",
    "### Step-by-Step Präsentation\n",
    "Advanced Edition"
   ]
  },
  {
   "cell_type": "markdown",
   "id": "d7759c33",
   "metadata": {
    "slideshow": {
     "slide_type": "slide"
    }
   },
   "source": [
    "### Rohdaten via Kommandozeile"
   ]
  },
  {
   "cell_type": "markdown",
   "id": "2a7e2ddf",
   "metadata": {
    "slideshow": {
     "slide_type": "slide"
    }
   },
   "source": [
    "#### Lines of Code"
   ]
  },
  {
   "cell_type": "markdown",
   "id": "a66e8f3c",
   "metadata": {
    "slideshow": {
     "slide_type": "slide"
    }
   },
   "source": [
    "Einfache Variante mit `find`"
   ]
  },
  {
   "cell_type": "code",
   "execution_count": null,
   "id": "f8bf6dbc",
   "metadata": {
    "slideshow": {
     "slide_type": "-"
    }
   },
   "outputs": [],
   "source": [
    "%%bash\n",
    "cd spring-framework-petclinic/\n",
    "find . -name *.java | xargs wc -l | head -n-1 > ../file_sizes.txt\n",
    "head ../file_sizes.txt"
   ]
  },
  {
   "cell_type": "markdown",
   "id": "c1fc83ea",
   "metadata": {
    "slideshow": {
     "slide_type": "slide"
    }
   },
   "source": [
    "Genauere Variante mit `cloc`"
   ]
  },
  {
   "cell_type": "code",
   "execution_count": null,
   "id": "234a0327",
   "metadata": {
    "slideshow": {
     "slide_type": "-"
    }
   },
   "outputs": [],
   "source": [
    "%%bash\n",
    "cloc spring-framework-petclinic/"
   ]
  },
  {
   "cell_type": "markdown",
   "id": "cb40f01e",
   "metadata": {
    "slideshow": {
     "slide_type": "slide"
    }
   },
   "source": [
    "Größeninformationen für jede Datei per `cloc`"
   ]
  },
  {
   "cell_type": "code",
   "execution_count": null,
   "id": "601576dc",
   "metadata": {
    "slideshow": {
     "slide_type": "-"
    }
   },
   "outputs": [],
   "source": [
    "%%bash\n",
    "cloc spring-framework-petclinic/ --by-file --quiet --csv --out lines.csv\n",
    "head lines.csv"
   ]
  },
  {
   "cell_type": "markdown",
   "id": "0d4ad7d7",
   "metadata": {
    "slideshow": {
     "slide_type": "slide"
    }
   },
   "source": [
    "#### Änderungshäufigkeiten"
   ]
  },
  {
   "cell_type": "markdown",
   "id": "a49f0960",
   "metadata": {
    "slideshow": {
     "slide_type": "slide"
    }
   },
   "source": [
    "Änderungen pro Datei mit `git log`"
   ]
  },
  {
   "cell_type": "code",
   "execution_count": null,
   "id": "9c8d52cf",
   "metadata": {
    "slideshow": {
     "slide_type": "-"
    }
   },
   "outputs": [],
   "source": [
    "%%bash\n",
    "cd spring-framework-petclinic/\n",
    "git log --name-only --no-merges --format=\"\" -- *.java > ../changes.txt\n",
    "cat ../changes.txt"
   ]
  },
  {
   "cell_type": "markdown",
   "id": "77707e34",
   "metadata": {
    "slideshow": {
     "slide_type": "slide"
    }
   },
   "source": [
    "### Datenmassage mit Data-Science-Werkzeugen"
   ]
  },
  {
   "cell_type": "markdown",
   "id": "de4a0244",
   "metadata": {
    "slideshow": {
     "slide_type": "slide"
    }
   },
   "source": [
    "In der Theorie: Datei mit Zeilenanzahlen direkt einlesen"
   ]
  },
  {
   "cell_type": "code",
   "execution_count": null,
   "id": "e024e1fe",
   "metadata": {
    "slideshow": {
     "slide_type": "-"
    }
   },
   "outputs": [],
   "source": [
    "!head -n 4 lines.txt"
   ]
  },
  {
   "cell_type": "code",
   "execution_count": null,
   "id": "01617705",
   "metadata": {
    "slideshow": {
     "slide_type": "fragment"
    }
   },
   "outputs": [],
   "source": [
    "import pandas as pd\n",
    "pd.read_csv(\"lines.txt\").head(3)"
   ]
  },
  {
   "cell_type": "markdown",
   "id": "6545c7b5",
   "metadata": {
    "slideshow": {
     "slide_type": "slide"
    }
   },
   "source": [
    "In der Praxis: Einlesen mit kleineren Anpassungen"
   ]
  },
  {
   "cell_type": "code",
   "execution_count": null,
   "id": "d91ad034",
   "metadata": {
    "scrolled": true,
    "slideshow": {
     "slide_type": "-"
    }
   },
   "outputs": [],
   "source": [
    "lines = pd.read_csv(\"lines.txt\", index_col=1)[:-1][['code']]\n",
    "lines.index = lines.index.str[2:]\n",
    "lines.head()"
   ]
  },
  {
   "cell_type": "markdown",
   "id": "3a5b3ff5",
   "metadata": {
    "slideshow": {
     "slide_type": "slide"
    }
   },
   "source": [
    "Datei mit jeder geänderten Datei einlesen (+ Spaltennamen)"
   ]
  },
  {
   "cell_type": "code",
   "execution_count": null,
   "id": "d2312a85",
   "metadata": {
    "slideshow": {
     "slide_type": "-"
    }
   },
   "outputs": [],
   "source": [
    "!head -n 5 changes.txt"
   ]
  },
  {
   "cell_type": "code",
   "execution_count": null,
   "id": "3c0e4280",
   "metadata": {
    "slideshow": {
     "slide_type": "fragment"
    }
   },
   "outputs": [],
   "source": [
    "change_per_file = pd.read_csv(\"changes.txt\", names=['filepath'])\n",
    "change_per_file.head()"
   ]
  },
  {
   "cell_type": "markdown",
   "id": "f45e61df",
   "metadata": {
    "slideshow": {
     "slide_type": "slide"
    }
   },
   "source": [
    "Noch zu erledigen: Änderungen / Vorkommen der Dateien zählen"
   ]
  },
  {
   "cell_type": "code",
   "execution_count": null,
   "id": "625cdce8",
   "metadata": {
    "slideshow": {
     "slide_type": "-"
    }
   },
   "outputs": [],
   "source": [
    "changes = pd.DataFrame(change_per_file['filepath'].value_counts())\n",
    "changes.columns = [\"changes\"]\n",
    "changes.head()"
   ]
  },
  {
   "cell_type": "markdown",
   "id": "b26bc156",
   "metadata": {
    "slideshow": {
     "slide_type": "slide"
    }
   },
   "source": [
    "Daten vereinen"
   ]
  },
  {
   "cell_type": "code",
   "execution_count": null,
   "id": "6394fcd3",
   "metadata": {
    "slideshow": {
     "slide_type": "-"
    }
   },
   "outputs": [],
   "source": [
    "hotspots = changes.join(lines).dropna()\n",
    "hotspots.head()"
   ]
  },
  {
   "cell_type": "markdown",
   "id": "fc731287",
   "metadata": {
    "slideshow": {
     "slide_type": "slide"
    }
   },
   "source": [
    "### Hinter den Kulissen der Visualisierung\n",
    "Wir brauchen: Datenformat und Template"
   ]
  },
  {
   "cell_type": "markdown",
   "id": "de7356cf",
   "metadata": {
    "slideshow": {
     "slide_type": "-"
    }
   },
   "source": [
    "<small><pre>{\n",
    "    'name': 'flare',\n",
    "    'children': [{\n",
    "            'name': 'src',\n",
    "            'children': [{\n",
    "                    'name': 'main',\n",
    "                    'children': [{\n",
    "                            'name': 'java',\n",
    "                            'children': [{\n",
    "                                    'name': 'org',\n",
    "                                    'children': [{\n",
    "                                            'name': 'springframework',\n",
    "                                            'children': [{\n",
    "                                                    'name': 'samples',\n",
    "                                                    'children': [{\n",
    "                                                            'name': 'petclinic',\n",
    "                                                            'children': [{\n",
    "                                                                    'name': 'repository',\n",
    "                                                                    'children': [{\n",
    "                                                                            'name': 'jdbc',\n",
    "                                                                            'children': [{\n",
    "                                                                                    'name': 'JdbcOwnerRepositoryImpl.java (158.0 [27])',\n",
    "                                                                                    'size': 158.0,\n",
    "                                                                                    'color': '#b40426'\n",
    "                                                                                }, {\n",
    "                                                                                    'name': 'JdbcVetRepositoryImpl.java (88.0 [20])',\n",
    "                                                                                    'size': 88.0,\n",
    "                                                                                    'color': '#f59d7e'\n",
    "                                                                                }, {\n",
    "                                                                                    'name': 'JdbcVisitRepositoryImpl.java (103.0 [19])',\n",
    "                                                                                    'size': 103.0,\n",
    "                                                                                    'color': '#f7aa8c'\n",
    "                                                                                }, {\n",
    "                                                                                    'name': 'JdbcPetRepositoryImpl.java (116.0 [17])',\n",
    "                                                                                    'size': 116.0,\n",
    "                                                                                    'color': '#f5c2aa'\n",
    "                                                                                }, {\n",
    "                                                                                    'name': 'JdbcPetRowMapper.java (40.0 [13])',\n",
    "                                                                                    'size': 40.0,\n",
    "                                                                                    'color': '#d8dce2'\n",
    "                                                                                }, {\n",
    "                                                                                    'name': 'JdbcPet.java (48.0 [8])',\n",
    "                                                                                    'size': 48.0,\n",
    "                                                                                    'color': '#9dbdff'\n",
    "                                                                                }, {\n",
    "                                                                                    'name': 'JdbcVisitRowMapper.java (40.0 [8])',\n",
    "                                                                                    'size': 40.0,\n",
    "                                                                                    'color': '#9dbdff'\n",
    "                                                                                }, {\n",
    "                                                                                    'name': 'JdbcPetVisitExtractor.java (53.0 [4])',\n",
    "                                                                                    'size': 53.0,\n",
    "                                                                                    'color': '#688aef'\n",
    "                                                                                }, {\n",
    "                                                                                    'name': 'OneToManyResultSetExtractor.java (159.0 [2])',\n",
    "                                                                                    'size': 159.0,\n",
    "                                                                                    'color': '#506bda'\n",
    "                                                                                }, {\n",
    "                                                                                    'name': 'package-info.java (6.0 [2])',\n",
    "                                                                                    'size': 6.0,\n",
    "                                                                                    'color': '#506bda'\n",
    "                                                                                }\n",
    "                                                                            ]\n",
    "                                                                        }, {\n",
    "                                                                            'name': 'jpa',\n",
    "                                                                            'children': [{\n",
    "                                                                                    'name': 'JpaOwnerRepositoryImpl.java (81.0 [17])',\n",
    "                                                                                    'size': 81.0,\n",
    "                                                                                    'color': '#f5c2aa'\n",
    "                                                                                }, {\n",
    "                                                                                    'name': 'JpaVisitRepositoryImpl.java (64.0 [12])',\n",
    "                                                                                    'size': 64.0,\n",
    "                                                                                    'color': '#cdd9ec'\n",
    "                                                                                }, {\n",
    "                                                                                    'name': 'JpaVetRepositoryImpl.java (48.0 [11])',\n",
    "                                                                                    'size': 48.0,\n",
    "                                                                                    'color': '#c3d5f4'\n",
    "                                                                                }, {\n",
    "                                                                                    'name': 'JpaPetRepositoryImpl.java (63.0 [10])',\n",
    "                                                                                    'size': 63.0,\n",
    "                                                                                    'color': '#b6cefa'\n",
    "                                                                                }, {\n",
    "                                                                                    'name': 'package-info.java (6.0 [2])',\n",
    "                                                                                    'size': 6.0,\n",
    "                                                                                    'color': '#506bda'\n",
    "                                                                                }\n",
    "                                                                            ]\n",
    "                                                                        }\n",
    "                                                                                ...\n",
    "</pre></small>"
   ]
  },
  {
   "cell_type": "markdown",
   "id": "786ea93b",
   "metadata": {
    "slideshow": {
     "slide_type": "slide"
    }
   },
   "source": [
    "Daten für Visualisierung aufbereiten"
   ]
  },
  {
   "cell_type": "code",
   "execution_count": null,
   "id": "25fb09e0",
   "metadata": {
    "slideshow": {
     "slide_type": "-"
    }
   },
   "outputs": [],
   "source": [
    "from matplotlib import cm\n",
    "from matplotlib.colors import rgb2hex\n",
    "\n",
    "def create_plot_data(df, color_column_name, size_column_name, seperator):\n",
    "    plot_data = pd.DataFrame(index=df.index)\n",
    "    plot_data['value_for_color'] = df[color_column_name]\n",
    "    plot_data['ratio_for_color'] = plot_data['value_for_color'] / plot_data['value_for_color'].max()\n",
    "    plot_data['color'] = plot_data['ratio_for_color'].apply(lambda x : rgb2hex(cm.coolwarm(x)))\n",
    "    plot_data['size'] = df[size_column_name]\n",
    "    plot_data[['path', 'name']] = df.index.str.rsplit(seperator, n=1).to_list()\n",
    "    plot_data['path_list'] = plot_data['path'].str.split(seperator)\n",
    "    return plot_data"
   ]
  },
  {
   "cell_type": "markdown",
   "id": "76eb8f7c",
   "metadata": {
    "slideshow": {
     "slide_type": "slide"
    }
   },
   "source": [
    "In D3-Datenformat (JSON) umwandeln"
   ]
  },
  {
   "cell_type": "code",
   "execution_count": null,
   "id": "471c1e9e",
   "metadata": {
    "slideshow": {
     "slide_type": "-"
    }
   },
   "outputs": [],
   "source": [
    "import json\n",
    "\n",
    "def create_flare_json(df):\n",
    "\n",
    "    json_data = {'name': 'flare', 'children': []}\n",
    "\n",
    "    for _, series in df.iterrows():\n",
    "        hierarchical_data = series['path_list']\n",
    "\n",
    "        children = json_data['children']\n",
    "        for part in hierarchical_data:\n",
    "            entry = next((child for child in children if child.get('name', '') == part), None)\n",
    "            if not entry:\n",
    "                entry = {'name': part, 'children': []}\n",
    "                children.append(entry)\n",
    "            children = entry['children']\n",
    "\n",
    "        children.append({\n",
    "            'name': f\"{series['name']} ({series['size']} [{series['value_for_color']}])\",\n",
    "            'size': series['size'],\n",
    "            'color': series['color']\n",
    "        })\n",
    "\n",
    "    return json_data"
   ]
  },
  {
   "cell_type": "markdown",
   "id": "54d7eb7b",
   "metadata": {
    "slideshow": {
     "slide_type": "slide"
    }
   },
   "source": [
    "Alles anstoßen, HTML-Template mit Daten füttern und Datei erzeugen"
   ]
  },
  {
   "cell_type": "code",
   "execution_count": null,
   "id": "f8d82463",
   "metadata": {
    "slideshow": {
     "slide_type": "-"
    }
   },
   "outputs": [],
   "source": [
    "from IPython.core.display import HTML\n",
    "\n",
    "def create_hotspot_file(hotspots, color_column_name, size_column_name, separator):\n",
    "    json_data = create_flare_json(create_plot_data(hotspots, color_column_name, size_column_name,separator))\n",
    "            \n",
    "    with open(\"vis/template_hierarchical_d3_inline.html\") as html_template:\n",
    "        html = html_template.read().replace(\"###FLARE_JSON###\", str(json_data))\n",
    "        \n",
    "        with open(f'hotspots.html', mode='w') as html_out:\n",
    "            html_out.write(html)\n",
    "    \n",
    "    return HTML('<a href=\"hotspots.html\">hotspots.html</a>')\n",
    "            \n",
    "create_hotspot_file(hotspots, \"changes\", \"code\", \"/\")"
   ]
  },
  {
   "cell_type": "markdown",
   "id": "e14c365f",
   "metadata": {
    "slideshow": {
     "slide_type": "slide"
    }
   },
   "source": [
    "### Ende der Demo"
   ]
  }
 ],
 "metadata": {
  "celltoolbar": "Slideshow",
  "kernelspec": {
   "display_name": "Python 3 (ipykernel)",
   "language": "python",
   "name": "python3"
  },
  "language_info": {
   "codemirror_mode": {
    "name": "ipython",
    "version": 3
   },
   "file_extension": ".py",
   "mimetype": "text/x-python",
   "name": "python",
   "nbconvert_exporter": "python",
   "pygments_lexer": "ipython3",
   "version": "3.9.7"
  },
  "rise": {
   "controls": false,
   "progress": false,
   "scroll": true,
   "showSlideNumber": "speaker",
   "slideNumber ": false,
   "transition": "none"
  }
 },
 "nbformat": 4,
 "nbformat_minor": 5
}
