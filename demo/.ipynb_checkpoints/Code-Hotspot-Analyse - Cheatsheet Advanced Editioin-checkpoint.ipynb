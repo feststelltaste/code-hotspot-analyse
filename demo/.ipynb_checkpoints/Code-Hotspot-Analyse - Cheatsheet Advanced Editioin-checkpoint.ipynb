{
 "cells": [
  {
   "cell_type": "markdown",
   "id": "494fcbe6",
   "metadata": {},
   "source": [
    "# Cheatsheet Code-Hotspot-Analyse\n",
    "*Läuft nur nach den Kommandozeilenbefehlen und im Root-Verzeichnis durch* "
   ]
  },
  {
   "cell_type": "markdown",
   "id": "d7759c33",
   "metadata": {},
   "source": [
    "### Kommandozeile\n",
    "\n",
    "Im Verzeichnis `spring-framework-petclinic/`"
   ]
  },
  {
   "cell_type": "markdown",
   "id": "a66e8f3c",
   "metadata": {},
   "source": [
    "**Lines of Code**"
   ]
  },
  {
   "cell_type": "markdown",
   "id": "c3458851",
   "metadata": {},
   "source": [
    "Einstieg"
   ]
  },
  {
   "cell_type": "markdown",
   "id": "605d1ef6",
   "metadata": {},
   "source": [
    "`find . -name *.java | xargs wc -l | head -n-1`"
   ]
  },
  {
   "cell_type": "markdown",
   "id": "830c83de",
   "metadata": {},
   "source": [
    "Erweitert"
   ]
  },
  {
   "cell_type": "markdown",
   "id": "d8b87894",
   "metadata": {},
   "source": [
    "`cloc . --by-file --csv --out ../lines.txt`"
   ]
  },
  {
   "cell_type": "markdown",
   "id": "0d4ad7d7",
   "metadata": {},
   "source": [
    "**Änderungen**"
   ]
  },
  {
   "cell_type": "markdown",
   "id": "db3ae6de",
   "metadata": {},
   "source": [
    "`git log --name-only --no-merges --format=\"\" -- *.java > ../changes.txt`"
   ]
  },
  {
   "cell_type": "markdown",
   "id": "ac619533",
   "metadata": {},
   "source": [
    "### Notebook"
   ]
  },
  {
   "cell_type": "code",
   "execution_count": 2,
   "id": "f50e9e2a",
   "metadata": {},
   "outputs": [],
   "source": [
    "import pandas as pd"
   ]
  },
  {
   "cell_type": "code",
   "execution_count": null,
   "id": "e024e1fe",
   "metadata": {},
   "outputs": [],
   "source": [
    "!cat lines.txt"
   ]
  },
  {
   "cell_type": "code",
   "execution_count": 5,
   "id": "d91ad034",
   "metadata": {
    "scrolled": true
   },
   "outputs": [
    {
     "data": {
      "text/html": [
       "<div>\n",
       "<style scoped>\n",
       "    .dataframe tbody tr th:only-of-type {\n",
       "        vertical-align: middle;\n",
       "    }\n",
       "\n",
       "    .dataframe tbody tr th {\n",
       "        vertical-align: top;\n",
       "    }\n",
       "\n",
       "    .dataframe thead th {\n",
       "        text-align: right;\n",
       "    }\n",
       "</style>\n",
       "<table border=\"1\" class=\"dataframe\">\n",
       "  <thead>\n",
       "    <tr style=\"text-align: right;\">\n",
       "      <th></th>\n",
       "      <th>code</th>\n",
       "    </tr>\n",
       "    <tr>\n",
       "      <th>filename</th>\n",
       "      <th></th>\n",
       "    </tr>\n",
       "  </thead>\n",
       "  <tbody>\n",
       "    <tr>\n",
       "      <th>src/main/webapp/resources/fonts/varela_round-webfont.svg</th>\n",
       "      <td>7875</td>\n",
       "    </tr>\n",
       "    <tr>\n",
       "      <th>src/main/webapp/resources/css/petclinic.css</th>\n",
       "      <td>7131</td>\n",
       "    </tr>\n",
       "    <tr>\n",
       "      <th>src/main/webapp/resources/fonts/montserrat-webfont.svg</th>\n",
       "      <td>1283</td>\n",
       "    </tr>\n",
       "    <tr>\n",
       "      <th>pom.xml</th>\n",
       "      <td>528</td>\n",
       "    </tr>\n",
       "    <tr>\n",
       "      <th>mvnw</th>\n",
       "      <td>215</td>\n",
       "    </tr>\n",
       "  </tbody>\n",
       "</table>\n",
       "</div>"
      ],
      "text/plain": [
       "                                                    code\n",
       "filename                                                \n",
       "src/main/webapp/resources/fonts/varela_round-we...  7875\n",
       "src/main/webapp/resources/css/petclinic.css         7131\n",
       "src/main/webapp/resources/fonts/montserrat-webf...  1283\n",
       "pom.xml                                              528\n",
       "mvnw                                                 215"
      ]
     },
     "execution_count": 5,
     "metadata": {},
     "output_type": "execute_result"
    }
   ],
   "source": [
    "lines = pd.read_csv(\"lines.txt\", index_col=1)[:-1][['code']]\n",
    "lines.index = lines.index.str[2:]\n",
    "lines.head()"
   ]
  },
  {
   "cell_type": "code",
   "execution_count": null,
   "id": "d2312a85",
   "metadata": {},
   "outputs": [],
   "source": [
    "!cat changes.txt"
   ]
  },
  {
   "cell_type": "code",
   "execution_count": null,
   "id": "3c0e4280",
   "metadata": {},
   "outputs": [],
   "source": [
    "change_per_file = pd.read_csv(\"changes.txt\", names=['filepath'])\n",
    "change_per_file.head()"
   ]
  },
  {
   "cell_type": "code",
   "execution_count": null,
   "id": "625cdce8",
   "metadata": {},
   "outputs": [],
   "source": [
    "changes = pd.DataFrame(change_per_file['filepath'].value_counts())\n",
    "changes.columns = [\"changes\"]\n",
    "changes.head()"
   ]
  },
  {
   "cell_type": "code",
   "execution_count": null,
   "id": "6394fcd3",
   "metadata": {},
   "outputs": [],
   "source": [
    "hotspots = changes.join(lines).dropna()\n",
    "hotspots"
   ]
  },
  {
   "cell_type": "code",
   "execution_count": null,
   "id": "f8d82463",
   "metadata": {},
   "outputs": [],
   "source": [
    "# %load demo/hotspotvis.py"
   ]
  },
  {
   "cell_type": "code",
   "execution_count": null,
   "id": "a2d1ed74",
   "metadata": {},
   "outputs": [],
   "source": [
    "create_hotspot_file(hotspots, \"changes\", \"code\", \"/\")"
   ]
  }
 ],
 "metadata": {
  "kernelspec": {
   "display_name": "Python 3 (ipykernel)",
   "language": "python",
   "name": "python3"
  },
  "language_info": {
   "codemirror_mode": {
    "name": "ipython",
    "version": 3
   },
   "file_extension": ".py",
   "mimetype": "text/x-python",
   "name": "python",
   "nbconvert_exporter": "python",
   "pygments_lexer": "ipython3",
   "version": "3.9.18"
  }
 },
 "nbformat": 4,
 "nbformat_minor": 5
}
