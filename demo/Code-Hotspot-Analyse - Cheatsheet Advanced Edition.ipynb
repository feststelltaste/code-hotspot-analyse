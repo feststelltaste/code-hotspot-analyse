{
 "cells": [
  {
   "cell_type": "markdown",
   "id": "494fcbe6",
   "metadata": {},
   "source": [
    "# Cheatsheet Code-Hotspot-Analyse\n",
    "*Läuft nur nach den Kommandozeilenbefehlen und im Root-Verzeichnis durch* "
   ]
  },
  {
   "cell_type": "markdown",
   "id": "d7759c33",
   "metadata": {},
   "source": [
    "### Kommandozeile\n",
    "\n",
    "Im Verzeichnis `spring-framework-petclinic/`"
   ]
  },
  {
   "cell_type": "markdown",
   "id": "a66e8f3c",
   "metadata": {},
   "source": [
    "**Lines of Code**"
   ]
  },
  {
   "cell_type": "markdown",
   "id": "c3458851",
   "metadata": {},
   "source": [
    "Einstieg"
   ]
  },
  {
   "cell_type": "markdown",
   "id": "605d1ef6",
   "metadata": {},
   "source": [
    "`find . -name *.java | xargs wc -l | head -n-1`"
   ]
  },
  {
   "cell_type": "markdown",
   "id": "830c83de",
   "metadata": {},
   "source": [
    "Erweitert"
   ]
  },
  {
   "cell_type": "markdown",
   "id": "d8b87894",
   "metadata": {},
   "source": [
    "`cloc . --by-file --csv --out ../lines.txt`"
   ]
  },
  {
   "cell_type": "markdown",
   "id": "0d4ad7d7",
   "metadata": {},
   "source": [
    "**Änderungen**"
   ]
  },
  {
   "cell_type": "markdown",
   "id": "db3ae6de",
   "metadata": {},
   "source": [
    "`git log --name-only --no-merges --format=\"\" -- *.java > ../changes.txt`"
   ]
  },
  {
   "cell_type": "markdown",
   "id": "ac619533",
   "metadata": {},
   "source": [
    "### Notebook"
   ]
  },
  {
   "cell_type": "code",
   "execution_count": null,
   "id": "f50e9e2a",
   "metadata": {},
   "outputs": [],
   "source": [
    "import pandas as pd"
   ]
  },
  {
   "cell_type": "code",
   "execution_count": null,
   "id": "e024e1fe",
   "metadata": {},
   "outputs": [],
   "source": [
    "!cat lines.txt"
   ]
  },
  {
   "cell_type": "code",
   "execution_count": null,
   "id": "d91ad034",
   "metadata": {
    "scrolled": true
   },
   "outputs": [],
   "source": [
    "lines = pd.read_csv(\"lines.txt\", index_col=1)[:-1][['code']]\n",
    "lines.index = lines.index.str[2:]\n",
    "lines.head()"
   ]
  },
  {
   "cell_type": "code",
   "execution_count": null,
   "id": "d2312a85",
   "metadata": {},
   "outputs": [],
   "source": [
    "!cat changes.txt"
   ]
  },
  {
   "cell_type": "code",
   "execution_count": null,
   "id": "3c0e4280",
   "metadata": {},
   "outputs": [],
   "source": [
    "change_per_file = pd.read_csv(\"changes.txt\", names=['filepath'])\n",
    "change_per_file.head()"
   ]
  },
  {
   "cell_type": "code",
   "execution_count": null,
   "id": "625cdce8",
   "metadata": {},
   "outputs": [],
   "source": [
    "changes = pd.DataFrame(change_per_file['filepath'].value_counts())\n",
    "changes.columns = [\"changes\"]\n",
    "changes.head()"
   ]
  },
  {
   "cell_type": "code",
   "execution_count": null,
   "id": "6394fcd3",
   "metadata": {},
   "outputs": [],
   "source": [
    "hotspots = changes.join(lines).dropna()\n",
    "hotspots"
   ]
  },
  {
   "cell_type": "code",
   "execution_count": null,
   "id": "f8d82463",
   "metadata": {},
   "outputs": [],
   "source": [
    "# %load demo/hotspotvis.py"
   ]
  },
  {
   "cell_type": "code",
   "execution_count": null,
   "id": "a2d1ed74",
   "metadata": {},
   "outputs": [],
   "source": [
    "create_hotspot_file(hotspots, \"changes\", \"code\", \"/\")"
   ]
  }
 ],
 "metadata": {
  "kernelspec": {
   "display_name": "Python 3 (ipykernel)",
   "language": "python",
   "name": "python3"
  },
  "language_info": {
   "codemirror_mode": {
    "name": "ipython",
    "version": 3
   },
   "file_extension": ".py",
   "mimetype": "text/x-python",
   "name": "python",
   "nbconvert_exporter": "python",
   "pygments_lexer": "ipython3",
   "version": "3.9.18"
  }
 },
 "nbformat": 4,
 "nbformat_minor": 5
}
